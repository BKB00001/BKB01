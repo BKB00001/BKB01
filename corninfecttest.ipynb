{
 "cells": [
  {
   "cell_type": "code",
   "execution_count": 1,
   "metadata": {
    "_cell_guid": "b1076dfc-b9ad-4769-8c92-a6c4dae69d19",
    "_uuid": "8f2839f25d086af736a60e9eeb907d3b93b6e0e5",
    "execution": {
     "iopub.execute_input": "2023-02-28T01:50:36.166842Z",
     "iopub.status.busy": "2023-02-28T01:50:36.165899Z",
     "iopub.status.idle": "2023-02-28T01:50:36.168742Z",
     "shell.execute_reply": "2023-02-28T01:50:36.168293Z",
     "shell.execute_reply.started": "2023-02-28T01:40:38.546084Z"
    },
    "papermill": {
     "duration": 0.018785,
     "end_time": "2023-02-28T01:50:36.168846",
     "exception": false,
     "start_time": "2023-02-28T01:50:36.150061",
     "status": "completed"
    },
    "tags": []
   },
   "outputs": [],
   "source": [
    "# This Python 3 environment comes with many helpful analytics libraries installed\n",
    "# It is defined by the kaggle/python Docker image: https://github.com/kaggle/docker-python\n",
    "# For example, here's several helpful packages to load\n",
    "\n",
    "import numpy as np # linear algebra\n",
    "import pandas as pd # data processing, CSV file I/O (e.g. pd.read_csv)\n",
    "\n",
    "# Input data files are available in the read-only \"../input/\" directory\n",
    "# For example, running this (by clicking run or pressing Shift+Enter) will list all files under the input directory\n",
    "\n",
    "import os\n",
    "\n",
    "# You can write up to 5GB to the current directory (/kaggle/working/) that gets preserved as output when you create a version using \"Save & Run All\" \n",
    "# You can also write temporary files to /kaggle/temp/, but they won't be saved outside of the current session"
   ]
  },
  {
   "cell_type": "code",
   "execution_count": 2,
   "metadata": {
    "_cell_guid": "79c7e3d0-c299-4dcb-8224-4455121ee9b0",
    "_uuid": "d629ff2d2480ee46fbb7e2d37f6b5fab8052498a",
    "execution": {
     "iopub.execute_input": "2023-02-28T01:50:36.193243Z",
     "iopub.status.busy": "2023-02-28T01:50:36.192719Z",
     "iopub.status.idle": "2023-02-28T01:50:36.206584Z",
     "shell.execute_reply": "2023-02-28T01:50:36.206154Z",
     "shell.execute_reply.started": "2023-02-28T01:40:41.540549Z"
    },
    "papermill": {
     "duration": 0.027503,
     "end_time": "2023-02-28T01:50:36.206684",
     "exception": false,
     "start_time": "2023-02-28T01:50:36.179181",
     "status": "completed"
    },
    "tags": []
   },
   "outputs": [],
   "source": [
    "#lets make a list of categories.ie infected or non infected leaf\n",
    "categories=list(os.listdir('/kaggle/input/corn-leaf-infection-dataset/Corn Disease detection'))"
   ]
  },
  {
   "cell_type": "code",
   "execution_count": 3,
   "metadata": {
    "execution": {
     "iopub.execute_input": "2023-02-28T01:50:36.235236Z",
     "iopub.status.busy": "2023-02-28T01:50:36.234537Z",
     "iopub.status.idle": "2023-02-28T02:04:44.517630Z",
     "shell.execute_reply": "2023-02-28T02:04:44.517149Z",
     "shell.execute_reply.started": "2023-02-28T01:40:43.176337Z"
    },
    "papermill": {
     "duration": 848.30079,
     "end_time": "2023-02-28T02:04:44.517785",
     "exception": false,
     "start_time": "2023-02-28T01:50:36.216995",
     "status": "completed"
    },
    "tags": []
   },
   "outputs": [],
   "source": [
    "#now preprocess the data from the directory\n",
    "import matplotlib.pyplot as plt\n",
    "import seaborn as sns\n",
    "import cv2\n",
    "dire='/kaggle/input/corn-leaf-infection-dataset/Corn Disease detection'\n",
    "features=[]\n",
    "IMG_SIZE=200\n",
    "for i in categories:\n",
    "    path=os.path.join(dire,i)\n",
    "    num_classes=categories.index(i)\n",
    "    for img in os.listdir(path):\n",
    "        if img.endswith('.jpg'):\n",
    "            \n",
    "            img_array=cv2.imread(os.path.join(path,img))\n",
    "            img_array=cv2.resize(img_array,(IMG_SIZE,IMG_SIZE))\n",
    "            features.append([img_array,num_classes])\n"
   ]
  },
  {
   "cell_type": "code",
   "execution_count": 4,
   "metadata": {
    "execution": {
     "iopub.execute_input": "2023-02-28T02:04:44.544589Z",
     "iopub.status.busy": "2023-02-28T02:04:44.543767Z",
     "iopub.status.idle": "2023-02-28T02:04:44.545882Z",
     "shell.execute_reply": "2023-02-28T02:04:44.546251Z",
     "shell.execute_reply.started": "2023-02-27T13:50:50.561077Z"
    },
    "papermill": {
     "duration": 0.01775,
     "end_time": "2023-02-28T02:04:44.546363",
     "exception": false,
     "start_time": "2023-02-28T02:04:44.528613",
     "status": "completed"
    },
    "tags": []
   },
   "outputs": [],
   "source": [
    "#now separate the dependent and independent variables from the list\n",
    "X=[]\n",
    "Y=[]\n",
    "for i ,j in features:\n",
    "    X.append(i)\n",
    "    Y.append(j)"
   ]
  },
  {
   "cell_type": "code",
   "execution_count": 5,
   "metadata": {
    "execution": {
     "iopub.execute_input": "2023-02-28T02:04:44.571839Z",
     "iopub.status.busy": "2023-02-28T02:04:44.570516Z",
     "iopub.status.idle": "2023-02-28T02:04:49.957264Z",
     "shell.execute_reply": "2023-02-28T02:04:49.955759Z",
     "shell.execute_reply.started": "2023-02-27T13:53:23.871215Z"
    },
    "papermill": {
     "duration": 5.401122,
     "end_time": "2023-02-28T02:04:49.957491",
     "exception": false,
     "start_time": "2023-02-28T02:04:44.556369",
     "status": "completed"
    },
    "tags": []
   },
   "outputs": [],
   "source": [
    "x=np.array(X)/255"
   ]
  },
  {
   "cell_type": "code",
   "execution_count": 6,
   "metadata": {
    "execution": {
     "iopub.execute_input": "2023-02-28T02:04:49.989190Z",
     "iopub.status.busy": "2023-02-28T02:04:49.988337Z",
     "iopub.status.idle": "2023-02-28T02:04:49.990912Z",
     "shell.execute_reply": "2023-02-28T02:04:49.990483Z",
     "shell.execute_reply.started": "2023-02-27T13:53:37.158767Z"
    },
    "papermill": {
     "duration": 0.017608,
     "end_time": "2023-02-28T02:04:49.991011",
     "exception": false,
     "start_time": "2023-02-28T02:04:49.973403",
     "status": "completed"
    },
    "tags": []
   },
   "outputs": [],
   "source": [
    "#lets reshape the x array to meet the keras requirement\n",
    "x=x.reshape(-1,200,200,3)"
   ]
  },
  {
   "cell_type": "code",
   "execution_count": 7,
   "metadata": {
    "execution": {
     "iopub.execute_input": "2023-02-28T02:04:50.016609Z",
     "iopub.status.busy": "2023-02-28T02:04:50.015811Z",
     "iopub.status.idle": "2023-02-28T02:04:50.019271Z",
     "shell.execute_reply": "2023-02-28T02:04:50.019896Z",
     "shell.execute_reply.started": "2023-02-27T13:53:38.664359Z"
    },
    "papermill": {
     "duration": 0.019013,
     "end_time": "2023-02-28T02:04:50.020030",
     "exception": false,
     "start_time": "2023-02-28T02:04:50.001017",
     "status": "completed"
    },
    "tags": []
   },
   "outputs": [
    {
     "data": {
      "text/plain": [
       "(4225, 200, 200, 3)"
      ]
     },
     "execution_count": 7,
     "metadata": {},
     "output_type": "execute_result"
    }
   ],
   "source": [
    "x.shape"
   ]
  },
  {
   "cell_type": "code",
   "execution_count": 8,
   "metadata": {
    "execution": {
     "iopub.execute_input": "2023-02-28T02:04:50.045477Z",
     "iopub.status.busy": "2023-02-28T02:04:50.044869Z",
     "iopub.status.idle": "2023-02-28T02:04:54.992680Z",
     "shell.execute_reply": "2023-02-28T02:04:54.992167Z",
     "shell.execute_reply.started": "2023-02-27T13:53:40.983003Z"
    },
    "papermill": {
     "duration": 4.962276,
     "end_time": "2023-02-28T02:04:54.992804",
     "exception": false,
     "start_time": "2023-02-28T02:04:50.030528",
     "status": "completed"
    },
    "tags": []
   },
   "outputs": [],
   "source": [
    "#we need to convert target lables into one hot encoding integers\n",
    "from tensorflow.keras.utils import to_categorical\n",
    "y=to_categorical(Y)"
   ]
  },
  {
   "cell_type": "code",
   "execution_count": 9,
   "metadata": {
    "execution": {
     "iopub.execute_input": "2023-02-28T02:04:55.020786Z",
     "iopub.status.busy": "2023-02-28T02:04:55.020204Z",
     "iopub.status.idle": "2023-02-28T02:04:59.225083Z",
     "shell.execute_reply": "2023-02-28T02:04:59.223997Z",
     "shell.execute_reply.started": "2023-02-27T13:53:52.676290Z"
    },
    "papermill": {
     "duration": 4.220635,
     "end_time": "2023-02-28T02:04:59.225204",
     "exception": false,
     "start_time": "2023-02-28T02:04:55.004569",
     "status": "completed"
    },
    "tags": []
   },
   "outputs": [],
   "source": [
    "#now we have to split our data into train and test sets\n",
    "from sklearn.model_selection import train_test_split\n",
    "x_train,x_test,y_train,y_test=train_test_split(x,y,random_state=12,test_size=0.2)"
   ]
  },
  {
   "cell_type": "code",
   "execution_count": 10,
   "metadata": {
    "execution": {
     "iopub.execute_input": "2023-02-28T02:04:59.251650Z",
     "iopub.status.busy": "2023-02-28T02:04:59.250866Z",
     "iopub.status.idle": "2023-02-28T02:05:03.837891Z",
     "shell.execute_reply": "2023-02-28T02:05:03.837333Z",
     "shell.execute_reply.started": "2023-02-27T13:54:43.505869Z"
    },
    "papermill": {
     "duration": 4.602053,
     "end_time": "2023-02-28T02:05:03.838012",
     "exception": false,
     "start_time": "2023-02-28T02:04:59.235959",
     "status": "completed"
    },
    "tags": []
   },
   "outputs": [],
   "source": [
    "# 数据增强\n",
    "from keras.preprocessing.image import ImageDataGenerator\n",
    "datagen = ImageDataGenerator(rotation_range=40, width_shift_range=0.2,\n",
    "                                   height_shift_range=0.2, shear_range=0.2, zoom_range=0.2, horizontal_flip=True, fill_mode='nearest')\n",
    "datagen.fit(x_train)"
   ]
  },
  {
   "cell_type": "code",
   "execution_count": 11,
   "metadata": {
    "execution": {
     "iopub.execute_input": "2023-02-28T02:05:03.869021Z",
     "iopub.status.busy": "2023-02-28T02:05:03.868291Z",
     "iopub.status.idle": "2023-02-28T02:05:03.871408Z",
     "shell.execute_reply": "2023-02-28T02:05:03.870676Z",
     "shell.execute_reply.started": "2023-02-27T13:54:48.494530Z"
    },
    "papermill": {
     "duration": 0.022565,
     "end_time": "2023-02-28T02:05:03.871520",
     "exception": false,
     "start_time": "2023-02-28T02:05:03.848955",
     "status": "completed"
    },
    "tags": []
   },
   "outputs": [],
   "source": [
    "import tensorflow as tf \n",
    "import keras \n",
    "from keras.layers import Conv2D\n",
    "from keras.models import Sequential\n",
    "from keras.layers import MaxPool2D\n",
    "from keras.layers import Flatten\n",
    "from keras.layers import Dense\n",
    "from keras.models import Model\n",
    "from keras.preprocessing.image import ImageDataGenerator\n",
    "from sklearn.metrics import confusion_matrix\n",
    "from sklearn.metrics import accuracy_score\n",
    "import cv2\n",
    "import re\n",
    "import random\n",
    "random.seed(0)\n",
    "np.random.seed(0)"
   ]
  },
  {
   "cell_type": "code",
   "execution_count": 12,
   "metadata": {
    "execution": {
     "iopub.execute_input": "2023-02-28T02:05:03.900814Z",
     "iopub.status.busy": "2023-02-28T02:05:03.900206Z",
     "iopub.status.idle": "2023-02-28T02:05:06.305520Z",
     "shell.execute_reply": "2023-02-28T02:05:06.306467Z",
     "shell.execute_reply.started": "2023-02-28T01:41:43.685594Z"
    },
    "papermill": {
     "duration": 2.424737,
     "end_time": "2023-02-28T02:05:06.306637",
     "exception": false,
     "start_time": "2023-02-28T02:05:03.881900",
     "status": "completed"
    },
    "tags": []
   },
   "outputs": [
    {
     "name": "stdout",
     "output_type": "stream",
     "text": [
      "Model: \"sequential\"\n",
      "_________________________________________________________________\n",
      "Layer (type)                 Output Shape              Param #   \n",
      "=================================================================\n",
      "conv2d (Conv2D)              (None, 200, 200, 64)      1792      \n",
      "_________________________________________________________________\n",
      "max_pooling2d (MaxPooling2D) (None, 100, 100, 64)      0         \n",
      "_________________________________________________________________\n",
      "conv2d_1 (Conv2D)            (None, 98, 98, 128)       73856     \n",
      "_________________________________________________________________\n",
      "max_pooling2d_1 (MaxPooling2 (None, 32, 32, 128)       0         \n",
      "_________________________________________________________________\n",
      "dropout (Dropout)            (None, 32, 32, 128)       0         \n",
      "_________________________________________________________________\n",
      "batch_normalization (BatchNo (None, 32, 32, 128)       512       \n",
      "_________________________________________________________________\n",
      "conv2d_2 (Conv2D)            (None, 32, 32, 256)       295168    \n",
      "_________________________________________________________________\n",
      "max_pooling2d_2 (MaxPooling2 (None, 10, 10, 256)       0         \n",
      "_________________________________________________________________\n",
      "conv2d_3 (Conv2D)            (None, 10, 10, 512)       1180160   \n",
      "_________________________________________________________________\n",
      "max_pooling2d_3 (MaxPooling2 (None, 5, 5, 512)         0         \n",
      "_________________________________________________________________\n",
      "dropout_1 (Dropout)          (None, 5, 5, 512)         0         \n",
      "_________________________________________________________________\n",
      "batch_normalization_1 (Batch (None, 5, 5, 512)         2048      \n",
      "_________________________________________________________________\n",
      "flatten (Flatten)            (None, 12800)             0         \n",
      "_________________________________________________________________\n",
      "dense (Dense)                (None, 1024)              13108224  \n",
      "_________________________________________________________________\n",
      "dense_1 (Dense)              (None, 2)                 2050      \n",
      "=================================================================\n",
      "Total params: 14,663,810\n",
      "Trainable params: 14,662,530\n",
      "Non-trainable params: 1,280\n",
      "_________________________________________________________________\n"
     ]
    }
   ],
   "source": [
    "from tensorflow.keras.models import Sequential\n",
    "from tensorflow.keras.layers import MaxPool2D,Flatten,Dense,BatchNormalization,Dropout,Conv2D\n",
    "model=Sequential([\n",
    "    Conv2D(64,(3,3),padding='same',activation='relu',input_shape=(200,200,3)),\n",
    "    MaxPool2D((2,2)),\n",
    "    \n",
    "    Conv2D(128,(3,3),activation='relu'),\n",
    "    MaxPool2D((3,3)),\n",
    "    Dropout(0.2),\n",
    "    BatchNormalization(),\n",
    "    \n",
    "    Conv2D(256,(3,3),padding='same',activation='relu'),\n",
    "    MaxPool2D((3,3)),\n",
    "    \n",
    "    Conv2D(512,(3,3),activation='relu',padding='same'),\n",
    "    MaxPool2D((2,2)),\n",
    "    Dropout(0.3),\n",
    "    BatchNormalization(),\n",
    "    \n",
    "    Flatten(),\n",
    "    Dense(1024,activation='relu'),\n",
    "    Dense(2,activation='sigmoid')\n",
    "])\n",
    "model.summary()\n",
    "model.compile(optimizer='Adam',loss='binary_crossentropy',metrics=['acc'])"
   ]
  },
  {
   "cell_type": "code",
   "execution_count": 13,
   "metadata": {
    "execution": {
     "iopub.execute_input": "2023-02-28T02:05:06.335067Z",
     "iopub.status.busy": "2023-02-28T02:05:06.334494Z",
     "iopub.status.idle": "2023-02-28T02:11:14.474917Z",
     "shell.execute_reply": "2023-02-28T02:11:14.474081Z",
     "shell.execute_reply.started": "2023-02-27T13:55:09.433002Z"
    },
    "papermill": {
     "duration": 368.156002,
     "end_time": "2023-02-28T02:11:14.475078",
     "exception": false,
     "start_time": "2023-02-28T02:05:06.319076",
     "status": "completed"
    },
    "tags": []
   },
   "outputs": [
    {
     "name": "stdout",
     "output_type": "stream",
     "text": [
      "Epoch 1/100\n",
      "74/74 [==============================] - 5s 69ms/step - loss: 0.4900 - acc: 0.8343 - val_loss: 11.5405 - val_acc: 0.4813\n",
      "Epoch 2/100\n",
      "74/74 [==============================] - 4s 48ms/step - loss: 0.2247 - acc: 0.9176 - val_loss: 14.2668 - val_acc: 0.4813\n",
      "Epoch 3/100\n",
      "74/74 [==============================] - 4s 50ms/step - loss: 0.1627 - acc: 0.9379 - val_loss: 12.0482 - val_acc: 0.4813\n",
      "Epoch 4/100\n",
      "74/74 [==============================] - 4s 47ms/step - loss: 0.1463 - acc: 0.9442 - val_loss: 4.1738 - val_acc: 0.4822\n",
      "Epoch 5/100\n",
      "74/74 [==============================] - 4s 48ms/step - loss: 0.1483 - acc: 0.9413 - val_loss: 9.4088 - val_acc: 0.4813\n",
      "Epoch 6/100\n",
      "74/74 [==============================] - 4s 48ms/step - loss: 0.1255 - acc: 0.9505 - val_loss: 8.8959 - val_acc: 0.4813\n",
      "Epoch 7/100\n",
      "74/74 [==============================] - 4s 48ms/step - loss: 0.1065 - acc: 0.9594 - val_loss: 1.1472 - val_acc: 0.7071\n",
      "Epoch 8/100\n",
      "74/74 [==============================] - 4s 48ms/step - loss: 0.1034 - acc: 0.9637 - val_loss: 1.5642 - val_acc: 0.6677\n",
      "Epoch 9/100\n",
      "74/74 [==============================] - 4s 49ms/step - loss: 0.0706 - acc: 0.9721 - val_loss: 4.2239 - val_acc: 0.5138\n",
      "Epoch 10/100\n",
      "74/74 [==============================] - 4s 48ms/step - loss: 0.0577 - acc: 0.9768 - val_loss: 0.3104 - val_acc: 0.9181\n",
      "Epoch 11/100\n",
      "74/74 [==============================] - 4s 48ms/step - loss: 0.0597 - acc: 0.9776 - val_loss: 0.9732 - val_acc: 0.7781\n",
      "Epoch 12/100\n",
      "74/74 [==============================] - 4s 51ms/step - loss: 0.0607 - acc: 0.9772 - val_loss: 0.1575 - val_acc: 0.9566\n",
      "Epoch 13/100\n",
      "74/74 [==============================] - 4s 48ms/step - loss: 0.0352 - acc: 0.9886 - val_loss: 0.2034 - val_acc: 0.9398\n",
      "Epoch 14/100\n",
      "74/74 [==============================] - 4s 48ms/step - loss: 0.0447 - acc: 0.9839 - val_loss: 3.4287 - val_acc: 0.7249\n",
      "Epoch 15/100\n",
      "74/74 [==============================] - 4s 49ms/step - loss: 0.0263 - acc: 0.9903 - val_loss: 3.9213 - val_acc: 0.5542\n",
      "Epoch 16/100\n",
      "74/74 [==============================] - 4s 48ms/step - loss: 0.0874 - acc: 0.9696 - val_loss: 3.3173 - val_acc: 0.7505\n",
      "Epoch 17/100\n",
      "74/74 [==============================] - 4s 48ms/step - loss: 0.0496 - acc: 0.9806 - val_loss: 1.3001 - val_acc: 0.7998\n",
      "Epoch 18/100\n",
      "74/74 [==============================] - 4s 49ms/step - loss: 0.0535 - acc: 0.9827 - val_loss: 0.1179 - val_acc: 0.9645\n",
      "Epoch 19/100\n",
      "74/74 [==============================] - 4s 48ms/step - loss: 0.0219 - acc: 0.9924 - val_loss: 0.1733 - val_acc: 0.9635\n",
      "Epoch 20/100\n",
      "74/74 [==============================] - 4s 48ms/step - loss: 0.0172 - acc: 0.9920 - val_loss: 0.7823 - val_acc: 0.8777\n",
      "Epoch 21/100\n",
      "74/74 [==============================] - 4s 50ms/step - loss: 0.0435 - acc: 0.9856 - val_loss: 0.4747 - val_acc: 0.8767\n",
      "Epoch 22/100\n",
      "74/74 [==============================] - 4s 48ms/step - loss: 0.0463 - acc: 0.9839 - val_loss: 0.3089 - val_acc: 0.9418\n",
      "Epoch 23/100\n",
      "74/74 [==============================] - 4s 48ms/step - loss: 0.0249 - acc: 0.9886 - val_loss: 0.5585 - val_acc: 0.9034\n",
      "Epoch 24/100\n",
      "74/74 [==============================] - 4s 50ms/step - loss: 0.0283 - acc: 0.9899 - val_loss: 0.5920 - val_acc: 0.9122\n",
      "Epoch 25/100\n",
      "74/74 [==============================] - 4s 48ms/step - loss: 0.0067 - acc: 0.9979 - val_loss: 0.1768 - val_acc: 0.9556\n",
      "Epoch 26/100\n",
      "74/74 [==============================] - 4s 48ms/step - loss: 0.0146 - acc: 0.9954 - val_loss: 0.2840 - val_acc: 0.9428\n",
      "Epoch 27/100\n",
      "74/74 [==============================] - 4s 48ms/step - loss: 0.0171 - acc: 0.9954 - val_loss: 0.2750 - val_acc: 0.9260\n",
      "Epoch 28/100\n",
      "74/74 [==============================] - 4s 48ms/step - loss: 0.0203 - acc: 0.9932 - val_loss: 0.4592 - val_acc: 0.9201\n",
      "Epoch 29/100\n",
      "74/74 [==============================] - 4s 49ms/step - loss: 0.0108 - acc: 0.9970 - val_loss: 0.1692 - val_acc: 0.9615\n",
      "Epoch 30/100\n",
      "74/74 [==============================] - 4s 50ms/step - loss: 0.0092 - acc: 0.9966 - val_loss: 0.2567 - val_acc: 0.9536\n",
      "Epoch 31/100\n",
      "74/74 [==============================] - 4s 48ms/step - loss: 0.0296 - acc: 0.9894 - val_loss: 0.4767 - val_acc: 0.9320\n",
      "Epoch 32/100\n",
      "74/74 [==============================] - 4s 48ms/step - loss: 0.0349 - acc: 0.9886 - val_loss: 0.8401 - val_acc: 0.9063\n",
      "Epoch 33/100\n",
      "74/74 [==============================] - 4s 48ms/step - loss: 0.0251 - acc: 0.9903 - val_loss: 0.7884 - val_acc: 0.8945\n",
      "Epoch 34/100\n",
      "74/74 [==============================] - 4s 48ms/step - loss: 0.0549 - acc: 0.9801 - val_loss: 2.1334 - val_acc: 0.7791\n",
      "Epoch 35/100\n",
      "74/74 [==============================] - 4s 48ms/step - loss: 0.0298 - acc: 0.9890 - val_loss: 0.4298 - val_acc: 0.9280\n",
      "Epoch 36/100\n",
      "74/74 [==============================] - 4s 49ms/step - loss: 0.0234 - acc: 0.9907 - val_loss: 0.2938 - val_acc: 0.9517\n",
      "Epoch 37/100\n",
      "74/74 [==============================] - 4s 48ms/step - loss: 0.0275 - acc: 0.9915 - val_loss: 0.1262 - val_acc: 0.9675\n",
      "Epoch 38/100\n",
      "74/74 [==============================] - 4s 50ms/step - loss: 0.0161 - acc: 0.9949 - val_loss: 0.2980 - val_acc: 0.9241\n",
      "Epoch 39/100\n",
      "74/74 [==============================] - 4s 48ms/step - loss: 0.0107 - acc: 0.9970 - val_loss: 0.1546 - val_acc: 0.9625\n",
      "Epoch 40/100\n",
      "74/74 [==============================] - 4s 48ms/step - loss: 0.0060 - acc: 0.9975 - val_loss: 0.1176 - val_acc: 0.9615\n",
      "Epoch 41/100\n",
      "74/74 [==============================] - 4s 49ms/step - loss: 0.0018 - acc: 1.0000 - val_loss: 0.1624 - val_acc: 0.9665\n",
      "Epoch 42/100\n",
      "74/74 [==============================] - 4s 48ms/step - loss: 0.0086 - acc: 0.9979 - val_loss: 0.3341 - val_acc: 0.9536\n",
      "Epoch 43/100\n",
      "74/74 [==============================] - 4s 47ms/step - loss: 0.0404 - acc: 0.9886 - val_loss: 0.8008 - val_acc: 0.8895\n",
      "Epoch 44/100\n",
      "74/74 [==============================] - 4s 48ms/step - loss: 0.0113 - acc: 0.9975 - val_loss: 0.6578 - val_acc: 0.9260\n",
      "Epoch 45/100\n",
      "74/74 [==============================] - 4s 48ms/step - loss: 0.0098 - acc: 0.9954 - val_loss: 0.1208 - val_acc: 0.9684\n",
      "Epoch 46/100\n",
      "74/74 [==============================] - 4s 48ms/step - loss: 0.0037 - acc: 0.9983 - val_loss: 0.1582 - val_acc: 0.9665\n",
      "Epoch 47/100\n",
      "74/74 [==============================] - 4s 50ms/step - loss: 0.0046 - acc: 0.9975 - val_loss: 0.1906 - val_acc: 0.9586\n",
      "Epoch 48/100\n",
      "74/74 [==============================] - 4s 48ms/step - loss: 0.0143 - acc: 0.9966 - val_loss: 0.2231 - val_acc: 0.9566\n",
      "Epoch 49/100\n",
      "74/74 [==============================] - 4s 49ms/step - loss: 0.0312 - acc: 0.9915 - val_loss: 0.6724 - val_acc: 0.8688\n",
      "Epoch 50/100\n",
      "74/74 [==============================] - 4s 48ms/step - loss: 0.0094 - acc: 0.9970 - val_loss: 0.1471 - val_acc: 0.9704\n",
      "Epoch 51/100\n",
      "74/74 [==============================] - 4s 48ms/step - loss: 0.0059 - acc: 0.9979 - val_loss: 0.5955 - val_acc: 0.9467\n",
      "Epoch 52/100\n",
      "74/74 [==============================] - 4s 49ms/step - loss: 0.0235 - acc: 0.9949 - val_loss: 0.7205 - val_acc: 0.8836\n",
      "Epoch 53/100\n",
      "74/74 [==============================] - 4s 48ms/step - loss: 0.0206 - acc: 0.9958 - val_loss: 0.2202 - val_acc: 0.9477\n",
      "Epoch 54/100\n",
      "74/74 [==============================] - 4s 48ms/step - loss: 0.0148 - acc: 0.9958 - val_loss: 0.1190 - val_acc: 0.9665\n",
      "Epoch 55/100\n",
      "74/74 [==============================] - 4s 49ms/step - loss: 0.0012 - acc: 1.0000 - val_loss: 0.0941 - val_acc: 0.9753\n",
      "Epoch 56/100\n",
      "74/74 [==============================] - 4s 50ms/step - loss: 0.0036 - acc: 0.9996 - val_loss: 0.2272 - val_acc: 0.9625\n",
      "Epoch 57/100\n",
      "74/74 [==============================] - 4s 48ms/step - loss: 0.0028 - acc: 0.9987 - val_loss: 0.1514 - val_acc: 0.9675\n",
      "Epoch 58/100\n",
      "74/74 [==============================] - 4s 50ms/step - loss: 0.0037 - acc: 0.9987 - val_loss: 1.2879 - val_acc: 0.8659\n",
      "Epoch 59/100\n",
      "74/74 [==============================] - 3s 47ms/step - loss: 0.0031 - acc: 0.9996 - val_loss: 0.1879 - val_acc: 0.9684\n",
      "Epoch 60/100\n",
      "74/74 [==============================] - 4s 48ms/step - loss: 0.0397 - acc: 0.9903 - val_loss: 5.2154 - val_acc: 0.7781\n",
      "Epoch 61/100\n",
      "74/74 [==============================] - 4s 48ms/step - loss: 0.0275 - acc: 0.9911 - val_loss: 0.3557 - val_acc: 0.9369\n",
      "Epoch 62/100\n",
      "74/74 [==============================] - 4s 47ms/step - loss: 0.0436 - acc: 0.9869 - val_loss: 0.4606 - val_acc: 0.9083\n",
      "Epoch 63/100\n",
      "74/74 [==============================] - 4s 48ms/step - loss: 0.0171 - acc: 0.9941 - val_loss: 1.0951 - val_acc: 0.8817\n",
      "Epoch 64/100\n",
      "74/74 [==============================] - 4s 49ms/step - loss: 0.0105 - acc: 0.9970 - val_loss: 0.2044 - val_acc: 0.9625\n",
      "Epoch 65/100\n",
      "74/74 [==============================] - 4s 49ms/step - loss: 0.0222 - acc: 0.9937 - val_loss: 0.3722 - val_acc: 0.9477\n",
      "Epoch 66/100\n",
      "74/74 [==============================] - 4s 48ms/step - loss: 0.0239 - acc: 0.9915 - val_loss: 0.5128 - val_acc: 0.9221\n",
      "Epoch 67/100\n",
      "74/74 [==============================] - 4s 49ms/step - loss: 0.0151 - acc: 0.9945 - val_loss: 0.1780 - val_acc: 0.9615\n",
      "Epoch 68/100\n",
      "74/74 [==============================] - 4s 48ms/step - loss: 0.0069 - acc: 0.9975 - val_loss: 0.1693 - val_acc: 0.9714\n",
      "Epoch 69/100\n",
      "74/74 [==============================] - 4s 48ms/step - loss: 0.0022 - acc: 0.9992 - val_loss: 0.1850 - val_acc: 0.9665\n",
      "Epoch 70/100\n",
      "74/74 [==============================] - 4s 48ms/step - loss: 0.0021 - acc: 0.9987 - val_loss: 0.2333 - val_acc: 0.9625\n",
      "Epoch 71/100\n",
      "74/74 [==============================] - 4s 48ms/step - loss: 0.0047 - acc: 0.9987 - val_loss: 0.1611 - val_acc: 0.9793\n",
      "Epoch 72/100\n",
      "74/74 [==============================] - 4s 48ms/step - loss: 0.0127 - acc: 0.9970 - val_loss: 0.2884 - val_acc: 0.9566\n",
      "Epoch 73/100\n",
      "74/74 [==============================] - 4s 50ms/step - loss: 0.0274 - acc: 0.9949 - val_loss: 0.7270 - val_acc: 0.9112\n",
      "Epoch 74/100\n",
      "74/74 [==============================] - 4s 48ms/step - loss: 0.0105 - acc: 0.9975 - val_loss: 0.5564 - val_acc: 0.9132\n",
      "Epoch 75/100\n",
      "74/74 [==============================] - 4s 48ms/step - loss: 0.0045 - acc: 0.9987 - val_loss: 0.2379 - val_acc: 0.9606\n",
      "Epoch 76/100\n",
      "74/74 [==============================] - 4s 49ms/step - loss: 0.0413 - acc: 0.9899 - val_loss: 3.2092 - val_acc: 0.7436\n",
      "Epoch 77/100\n",
      "74/74 [==============================] - 4s 48ms/step - loss: 0.0282 - acc: 0.9920 - val_loss: 0.3950 - val_acc: 0.9369\n",
      "Epoch 78/100\n",
      "74/74 [==============================] - 4s 48ms/step - loss: 0.0227 - acc: 0.9945 - val_loss: 0.2193 - val_acc: 0.9527\n",
      "Epoch 79/100\n",
      "74/74 [==============================] - 4s 49ms/step - loss: 0.0200 - acc: 0.9945 - val_loss: 2.3170 - val_acc: 0.8471\n",
      "Epoch 80/100\n",
      "74/74 [==============================] - 4s 48ms/step - loss: 0.0048 - acc: 0.9979 - val_loss: 0.2626 - val_acc: 0.9606\n",
      "Epoch 81/100\n",
      "74/74 [==============================] - 4s 48ms/step - loss: 0.0011 - acc: 1.0000 - val_loss: 0.1693 - val_acc: 0.9714\n",
      "Epoch 82/100\n",
      "74/74 [==============================] - 4s 51ms/step - loss: 0.0081 - acc: 0.9975 - val_loss: 0.1797 - val_acc: 0.9655\n",
      "Epoch 83/100\n",
      "74/74 [==============================] - 4s 48ms/step - loss: 0.0495 - acc: 0.9869 - val_loss: 25.1437 - val_acc: 0.4970\n",
      "Epoch 84/100\n",
      "74/74 [==============================] - 4s 49ms/step - loss: 0.0299 - acc: 0.9894 - val_loss: 1.8530 - val_acc: 0.7781\n",
      "Epoch 85/100\n",
      "74/74 [==============================] - 4s 50ms/step - loss: 0.0204 - acc: 0.9920 - val_loss: 0.6509 - val_acc: 0.8886\n",
      "Epoch 86/100\n",
      "74/74 [==============================] - 4s 47ms/step - loss: 0.0094 - acc: 0.9966 - val_loss: 0.2054 - val_acc: 0.9576\n",
      "Epoch 87/100\n",
      "74/74 [==============================] - 4s 48ms/step - loss: 0.0011 - acc: 1.0000 - val_loss: 0.1491 - val_acc: 0.9704\n",
      "Epoch 88/100\n",
      "74/74 [==============================] - 4s 49ms/step - loss: 1.9970e-04 - acc: 1.0000 - val_loss: 0.1374 - val_acc: 0.9734\n",
      "Epoch 89/100\n",
      "74/74 [==============================] - 4s 48ms/step - loss: 4.6128e-04 - acc: 1.0000 - val_loss: 0.1388 - val_acc: 0.9724\n",
      "Epoch 90/100\n",
      "74/74 [==============================] - 4s 48ms/step - loss: 0.0044 - acc: 0.9987 - val_loss: 0.3755 - val_acc: 0.9320\n",
      "Epoch 91/100\n",
      "74/74 [==============================] - 4s 51ms/step - loss: 0.0017 - acc: 0.9996 - val_loss: 0.1876 - val_acc: 0.9665\n",
      "Epoch 92/100\n",
      "74/74 [==============================] - 4s 48ms/step - loss: 3.1423e-04 - acc: 1.0000 - val_loss: 0.1288 - val_acc: 0.9783\n",
      "Epoch 93/100\n",
      "74/74 [==============================] - 4s 49ms/step - loss: 5.5465e-04 - acc: 0.9996 - val_loss: 0.1909 - val_acc: 0.9734\n",
      "Epoch 94/100\n",
      "74/74 [==============================] - 4s 49ms/step - loss: 0.0035 - acc: 0.9987 - val_loss: 0.1746 - val_acc: 0.9665\n",
      "Epoch 95/100\n",
      "74/74 [==============================] - 4s 47ms/step - loss: 0.0062 - acc: 0.9979 - val_loss: 2.1284 - val_acc: 0.7742\n",
      "Epoch 96/100\n",
      "74/74 [==============================] - 4s 48ms/step - loss: 0.0164 - acc: 0.9958 - val_loss: 0.6063 - val_acc: 0.9359\n",
      "Epoch 97/100\n",
      "74/74 [==============================] - 4s 49ms/step - loss: 0.0084 - acc: 0.9962 - val_loss: 0.7320 - val_acc: 0.8560\n",
      "Epoch 98/100\n",
      "74/74 [==============================] - 4s 48ms/step - loss: 0.0252 - acc: 0.9932 - val_loss: 0.5264 - val_acc: 0.9270\n",
      "Epoch 99/100\n",
      "74/74 [==============================] - 4s 49ms/step - loss: 0.0026 - acc: 0.9992 - val_loss: 0.1575 - val_acc: 0.9665\n",
      "Epoch 100/100\n",
      "74/74 [==============================] - 4s 50ms/step - loss: 0.0043 - acc: 0.9992 - val_loss: 0.2582 - val_acc: 0.9566\n"
     ]
    }
   ],
   "source": [
    "history=model.fit(x_train,y_train,epochs=100,batch_size=32,validation_split=0.3)"
   ]
  },
  {
   "cell_type": "code",
   "execution_count": 14,
   "metadata": {
    "execution": {
     "iopub.execute_input": "2023-02-28T02:11:16.482905Z",
     "iopub.status.busy": "2023-02-28T02:11:16.482016Z",
     "iopub.status.idle": "2023-02-28T02:11:16.868466Z",
     "shell.execute_reply": "2023-02-28T02:11:16.867799Z",
     "shell.execute_reply.started": "2023-02-27T13:58:52.922172Z"
    },
    "papermill": {
     "duration": 1.346311,
     "end_time": "2023-02-28T02:11:16.868590",
     "exception": false,
     "start_time": "2023-02-28T02:11:15.522279",
     "status": "completed"
    },
    "tags": []
   },
   "outputs": [],
   "source": [
    "model.save('./CornInfect.h5')"
   ]
  },
  {
   "cell_type": "code",
   "execution_count": 15,
   "metadata": {
    "execution": {
     "iopub.execute_input": "2023-02-28T02:11:18.854314Z",
     "iopub.status.busy": "2023-02-28T02:11:18.853731Z",
     "iopub.status.idle": "2023-02-28T02:11:19.067727Z",
     "shell.execute_reply": "2023-02-28T02:11:19.067091Z",
     "shell.execute_reply.started": "2023-02-27T13:58:23.865369Z"
    },
    "papermill": {
     "duration": 1.253267,
     "end_time": "2023-02-28T02:11:19.067847",
     "exception": false,
     "start_time": "2023-02-28T02:11:17.814580",
     "status": "completed"
    },
    "tags": []
   },
   "outputs": [
    {
     "data": {
      "image/png": "[encoded data removed]",
      "text/plain": [
       "<Figure size 864x360 with 1 Axes>"
      ]
     },
     "metadata": {
      "needs_background": "light"
     },
     "output_type": "display_data"
    }
   ],
   "source": [
    "#plot the model results to evaluate better\n",
    "plt.figure(figsize=(12,5))\n",
    "plt.plot(history.history['acc'])\n",
    "plt.plot(history.history['val_acc'])\n",
    "plt.xlabel('epochs')\n",
    "plt.ylabel('accuracy score')\n",
    "plt.title('accuracy score vs epochs')\n",
    "plt.legend(['train','test'])\n",
    "plt.show()"
   ]
  },
  {
   "cell_type": "code",
   "execution_count": 16,
   "metadata": {
    "execution": {
     "iopub.execute_input": "2023-02-28T02:11:20.972757Z",
     "iopub.status.busy": "2023-02-28T02:11:20.970720Z",
     "iopub.status.idle": "2023-02-28T02:11:20.973803Z",
     "shell.execute_reply": "2023-02-28T02:11:20.973363Z",
     "shell.execute_reply.started": "2023-02-27T13:03:43.663238Z"
    },
    "papermill": {
     "duration": 0.957286,
     "end_time": "2023-02-28T02:11:20.973905",
     "exception": false,
     "start_time": "2023-02-28T02:11:20.016619",
     "status": "completed"
    },
    "tags": []
   },
   "outputs": [],
   "source": [
    "#there are many sharp peaks during the training phase but at the end it achieves a quite good accuracy 91 on test set"
   ]
  },
  {
   "cell_type": "code",
   "execution_count": 17,
   "metadata": {
    "execution": {
     "iopub.execute_input": "2023-02-28T02:11:22.894355Z",
     "iopub.status.busy": "2023-02-28T02:11:22.893237Z",
     "iopub.status.idle": "2023-02-28T02:11:23.025507Z",
     "shell.execute_reply": "2023-02-28T02:11:23.025938Z",
     "shell.execute_reply.started": "2023-02-27T13:58:28.158522Z"
    },
    "papermill": {
     "duration": 1.086392,
     "end_time": "2023-02-28T02:11:23.026075",
     "exception": false,
     "start_time": "2023-02-28T02:11:21.939683",
     "status": "completed"
    },
    "tags": []
   },
   "outputs": [
    {
     "data": {
      "image/png": "[encoded data removed]",
      "text/plain": [
       "<Figure size 864x360 with 1 Axes>"
      ]
     },
     "metadata": {
      "needs_background": "light"
     },
     "output_type": "display_data"
    }
   ],
   "source": [
    "#plot the loss score of both test and train sets\n",
    "plt.figure(figsize=(12,5))\n",
    "plt.plot(history.history['loss'])\n",
    "plt.plot(history.history['val_loss'])\n",
    "plt.xlabel('epochs')\n",
    "plt.ylabel('loss')\n",
    "plt.title('loss vs epochs')\n",
    "plt.legend(['train','test'])\n",
    "plt.show()"
   ]
  }
 ],
 "metadata": {
  "kernelspec": {
   "display_name": "Python 3",
   "language": "python",
   "name": "python3"
  },
  "language_info": {
   "codemirror_mode": {
    "name": "ipython",
    "version": 3
   },
   "file_extension": ".py",
   "mimetype": "text/x-python",
   "name": "python",
   "nbconvert_exporter": "python",
   "pygments_lexer": "ipython3",
   "version": "3.7.6"
  },
  "papermill": {
   "duration": 1252.134947,
   "end_time": "2023-02-28T02:11:24.737464",
   "environment_variables": {},
   "exception": null,
   "input_path": "__notebook__.ipynb",
   "output_path": "__notebook__.ipynb",
   "parameters": {},
   "start_time": "2023-02-28T01:50:32.602517",
   "version": "2.1.0"
  }
 },
 "nbformat": 4,
 "nbformat_minor": 4
}
